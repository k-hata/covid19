{
 "cells": [
  {
   "cell_type": "markdown",
   "metadata": {
    "colab": {
     "base_uri": "https://localhost:8080/"
    },
    "executionInfo": {
     "elapsed": 265,
     "status": "ok",
     "timestamp": 1624067022710,
     "user": {
      "displayName": "畠中一幸",
      "photoUrl": "",
      "userId": "11970968940868001732"
     },
     "user_tz": -540
    },
    "id": "KQIiBVwCanpn",
    "outputId": "c02c0508-950f-4b6e-d0c6-a0083585542c"
   },
   "source": [
    "# Monorail.json生成ファイル\n",
    "GoogleDrive上の共有フォルダに配置されたモノレールのデータをもとに、monorail.jsonを作成する"
   ]
  },
  {
   "cell_type": "code",
   "execution_count": 1,
   "metadata": {
    "colab": {
     "base_uri": "https://localhost:8080/"
    },
    "execution": {
     "iopub.execute_input": "2021-07-07T11:33:24.826582Z",
     "iopub.status.busy": "2021-07-07T11:33:24.824935Z",
     "iopub.status.idle": "2021-07-07T11:33:24.983660Z",
     "shell.execute_reply": "2021-07-07T11:33:24.982994Z"
    },
    "executionInfo": {
     "elapsed": 265,
     "status": "ok",
     "timestamp": 1624067022710,
     "user": {
      "displayName": "畠中一幸",
      "photoUrl": "",
      "userId": "11970968940868001732"
     },
     "user_tz": -540
    },
    "id": "KQIiBVwCanpn",
    "outputId": "c02c0508-950f-4b6e-d0c6-a0083585542c"
   },
   "outputs": [
    {
     "name": "stdout",
     "output_type": "stream",
     "text": [
      "Python 3.6.9\r\n"
     ]
    }
   ],
   "source": [
    "!python --version"
   ]
  },
  {
   "cell_type": "markdown",
   "metadata": {
    "id": "FIJFLjWdoTz1"
   },
   "source": [
    "## Google Drive APIに接続"
   ]
  },
  {
   "cell_type": "code",
   "execution_count": 2,
   "metadata": {
    "execution": {
     "iopub.execute_input": "2021-07-07T11:33:24.990935Z",
     "iopub.status.busy": "2021-07-07T11:33:24.990348Z",
     "iopub.status.idle": "2021-07-07T11:33:24.993960Z",
     "shell.execute_reply": "2021-07-07T11:33:24.993471Z"
    },
    "id": "FIJFLjWdoTz1"
   },
   "outputs": [],
   "source": [
    "import os\n",
    "import json\n",
    "\n",
    "pk=os.environ['SERVICE_ACCOUNT_JSON']\n",
    "\n",
    "with open('service_account.json','w') as f:\n",
    "    json_loads = json.loads(pk,strict=False)\n",
    "    json.dump(json_loads, fp=f, ensure_ascii=False, indent=4, sort_keys=True, separators=(',', ': '))"
   ]
  },
  {
   "cell_type": "code",
   "execution_count": 3,
   "metadata": {
    "colab": {
     "base_uri": "https://localhost:8080/"
    },
    "execution": {
     "iopub.execute_input": "2021-07-07T11:33:24.999449Z",
     "iopub.status.busy": "2021-07-07T11:33:24.998026Z",
     "iopub.status.idle": "2021-07-07T11:33:25.235890Z",
     "shell.execute_reply": "2021-07-07T11:33:25.236383Z"
    },
    "executionInfo": {
     "elapsed": 252,
     "status": "ok",
     "timestamp": 1624067031242,
     "user": {
      "displayName": "畠中一幸",
      "photoUrl": "",
      "userId": "11970968940868001732"
     },
     "user_tz": -540
    },
    "id": "fGuhzNIxGDkb",
    "outputId": "7b3aff39-8dc7-4f21-a597-fc281adb4b6e"
   },
   "outputs": [],
   "source": [
    "from google.oauth2 import service_account\n",
    "from googleapiclient.discovery import build\n",
    "credentials = service_account.Credentials.from_service_account_file('service_account.json')\n",
    "scoped_credentials = credentials.with_scopes(\n",
    "  [\n",
    "    'https://www.googleapis.com/auth/drive'\n",
    "  ])\n",
    "\n",
    "service = build('drive', 'v3', credentials=credentials)"
   ]
  },
  {
   "cell_type": "markdown",
   "metadata": {
    "colab": {
     "base_uri": "https://localhost:8080/"
    },
    "executionInfo": {
     "elapsed": 252,
     "status": "ok",
     "timestamp": 1624067031242,
     "user": {
      "displayName": "畠中一幸",
      "photoUrl": "",
      "userId": "11970968940868001732"
     },
     "user_tz": -540
    },
    "id": "fGuhzNIxGDkb",
    "outputId": "7b3aff39-8dc7-4f21-a597-fc281adb4b6e"
   },
   "source": [
    "## 共有フォルダ「コロナ対策サイト」の「10_千葉市受領データ」配下のフォルダを検索"
   ]
  },
  {
   "cell_type": "code",
   "execution_count": 4,
   "metadata": {
    "colab": {
     "base_uri": "https://localhost:8080/"
    },
    "execution": {
     "iopub.execute_input": "2021-07-07T11:33:25.243008Z",
     "iopub.status.busy": "2021-07-07T11:33:25.241990Z",
     "iopub.status.idle": "2021-07-07T11:33:26.274700Z",
     "shell.execute_reply": "2021-07-07T11:33:26.275184Z"
    },
    "executionInfo": {
     "elapsed": 252,
     "status": "ok",
     "timestamp": 1624067031242,
     "user": {
      "displayName": "畠中一幸",
      "photoUrl": "",
      "userId": "11970968940868001732"
     },
     "user_tz": -540
    },
    "id": "fGuhzNIxGDkb",
    "outputId": "7b3aff39-8dc7-4f21-a597-fc281adb4b6e"
   },
   "outputs": [
    {
     "data": {
      "text/html": [
       "<div>\n",
       "<style scoped>\n",
       "    .dataframe tbody tr th:only-of-type {\n",
       "        vertical-align: middle;\n",
       "    }\n",
       "\n",
       "    .dataframe tbody tr th {\n",
       "        vertical-align: top;\n",
       "    }\n",
       "\n",
       "    .dataframe thead th {\n",
       "        text-align: right;\n",
       "    }\n",
       "</style>\n",
       "<table border=\"1\" class=\"dataframe\">\n",
       "  <thead>\n",
       "    <tr style=\"text-align: right;\">\n",
       "      <th></th>\n",
       "      <th>id</th>\n",
       "      <th>name</th>\n",
       "      <th>mimeType</th>\n",
       "      <th>createdTime</th>\n",
       "    </tr>\n",
       "  </thead>\n",
       "  <tbody>\n",
       "    <tr>\n",
       "      <th>0</th>\n",
       "      <td>12sOJRki837z57RguTELlGOfhljkrSlXI</td>\n",
       "      <td>20210706</td>\n",
       "      <td>application/vnd.google-apps.folder</td>\n",
       "      <td>2021-07-06T04:35:59.556Z</td>\n",
       "    </tr>\n",
       "    <tr>\n",
       "      <th>1</th>\n",
       "      <td>1Xj52-ecpITOo-FHz7uaGDN9xKFj9Leyw</td>\n",
       "      <td>20210628</td>\n",
       "      <td>application/vnd.google-apps.folder</td>\n",
       "      <td>2021-06-28T07:39:41.247Z</td>\n",
       "    </tr>\n",
       "    <tr>\n",
       "      <th>2</th>\n",
       "      <td>1hUg25adPpuigDscHLoyc3orIsdqjG7Bu</td>\n",
       "      <td>20210623</td>\n",
       "      <td>application/vnd.google-apps.folder</td>\n",
       "      <td>2021-06-23T00:38:59.982Z</td>\n",
       "    </tr>\n",
       "    <tr>\n",
       "      <th>3</th>\n",
       "      <td>1w2zwDRpf3tf4e0vrPMNlrS7fsbXKugq-</td>\n",
       "      <td>20210615</td>\n",
       "      <td>application/vnd.google-apps.folder</td>\n",
       "      <td>2021-06-15T04:30:23.180Z</td>\n",
       "    </tr>\n",
       "    <tr>\n",
       "      <th>4</th>\n",
       "      <td>1wMTq6-Y5m9FB5KCqjTgtZDmM6p5Wyl4l</td>\n",
       "      <td>20210609</td>\n",
       "      <td>application/vnd.google-apps.folder</td>\n",
       "      <td>2021-06-09T06:19:15.363Z</td>\n",
       "    </tr>\n",
       "  </tbody>\n",
       "</table>\n",
       "</div>"
      ],
      "text/plain": [
       "                                  id      name  \\\n",
       "0  12sOJRki837z57RguTELlGOfhljkrSlXI  20210706   \n",
       "1  1Xj52-ecpITOo-FHz7uaGDN9xKFj9Leyw  20210628   \n",
       "2  1hUg25adPpuigDscHLoyc3orIsdqjG7Bu  20210623   \n",
       "3  1w2zwDRpf3tf4e0vrPMNlrS7fsbXKugq-  20210615   \n",
       "4  1wMTq6-Y5m9FB5KCqjTgtZDmM6p5Wyl4l  20210609   \n",
       "\n",
       "                             mimeType               createdTime  \n",
       "0  application/vnd.google-apps.folder  2021-07-06T04:35:59.556Z  \n",
       "1  application/vnd.google-apps.folder  2021-06-28T07:39:41.247Z  \n",
       "2  application/vnd.google-apps.folder  2021-06-23T00:38:59.982Z  \n",
       "3  application/vnd.google-apps.folder  2021-06-15T04:30:23.180Z  \n",
       "4  application/vnd.google-apps.folder  2021-06-09T06:19:15.363Z  "
      ]
     },
     "execution_count": 1,
     "metadata": {},
     "output_type": "execute_result"
    }
   ],
   "source": [
    "import io\n",
    "import pandas as pd\n",
    "\n",
    "results = service.files().list(\n",
    "    corpora=\"drive\",\n",
    "    driveId='0AD0xvJ3ujNNmUk9PVA',\n",
    "    includeItemsFromAllDrives=True,\n",
    "    supportsAllDrives=True,\n",
    "    orderBy='createdTime desc',\n",
    "    q=f\"'1mK3sX_7Kx3T4FhFG_NbBnIQLhtdHG16K' in parents and mimeType = 'application/vnd.google-apps.folder'\",\n",
    "    pageSize=100, fields=\"nextPageToken, files(id, name, mimeType, createdTime)\").execute()\n",
    "items = results.get('files', [])\n",
    "df=pd.DataFrame(items)\n",
    "df.columns = ['id', 'name', 'mimeType' ,'createdTime']\n",
    "df.head()"
   ]
  },
  {
   "cell_type": "markdown",
   "metadata": {
    "colab": {
     "base_uri": "https://localhost:8080/"
    },
    "executionInfo": {
     "elapsed": 252,
     "status": "ok",
     "timestamp": 1624067031242,
     "user": {
      "displayName": "畠中一幸",
      "photoUrl": "",
      "userId": "11970968940868001732"
     },
     "user_tz": -540
    },
    "id": "fGuhzNIxGDkb",
    "outputId": "7b3aff39-8dc7-4f21-a597-fc281adb4b6e"
   },
   "source": [
    "## 更新日付の最も新しいフォルダ内にxlsx形式のファイルがあるか検索"
   ]
  },
  {
   "cell_type": "code",
   "execution_count": 5,
   "metadata": {
    "colab": {
     "base_uri": "https://localhost:8080/"
    },
    "execution": {
     "iopub.execute_input": "2021-07-07T11:33:26.285825Z",
     "iopub.status.busy": "2021-07-07T11:33:26.285216Z",
     "iopub.status.idle": "2021-07-07T11:33:26.590647Z",
     "shell.execute_reply": "2021-07-07T11:33:26.590114Z"
    },
    "executionInfo": {
     "elapsed": 252,
     "status": "ok",
     "timestamp": 1624067031242,
     "user": {
      "displayName": "畠中一幸",
      "photoUrl": "",
      "userId": "11970968940868001732"
     },
     "user_tz": -540
    },
    "id": "fGuhzNIxGDkb",
    "outputId": "7b3aff39-8dc7-4f21-a597-fc281adb4b6e"
   },
   "outputs": [
    {
     "data": {
      "text/html": [
       "<div>\n",
       "<style scoped>\n",
       "    .dataframe tbody tr th:only-of-type {\n",
       "        vertical-align: middle;\n",
       "    }\n",
       "\n",
       "    .dataframe tbody tr th {\n",
       "        vertical-align: top;\n",
       "    }\n",
       "\n",
       "    .dataframe thead th {\n",
       "        text-align: right;\n",
       "    }\n",
       "</style>\n",
       "<table border=\"1\" class=\"dataframe\">\n",
       "  <thead>\n",
       "    <tr style=\"text-align: right;\">\n",
       "      <th></th>\n",
       "      <th>id</th>\n",
       "      <th>name</th>\n",
       "      <th>mimeType</th>\n",
       "      <th>createdTime</th>\n",
       "    </tr>\n",
       "  </thead>\n",
       "  <tbody>\n",
       "    <tr>\n",
       "      <th>0</th>\n",
       "      <td>1xkFUyjVnQzVVjOZIB9_bN52jmqO_SRb-</td>\n",
       "      <td>モノレール利用者数データ（千葉駅）.xlsx</td>\n",
       "      <td>application/vnd.openxmlformats-officedocument....</td>\n",
       "      <td>2021-07-06T04:36:41.031Z</td>\n",
       "    </tr>\n",
       "  </tbody>\n",
       "</table>\n",
       "</div>"
      ],
      "text/plain": [
       "                                  id                    name  \\\n",
       "0  1xkFUyjVnQzVVjOZIB9_bN52jmqO_SRb-  モノレール利用者数データ（千葉駅）.xlsx   \n",
       "\n",
       "                                            mimeType               createdTime  \n",
       "0  application/vnd.openxmlformats-officedocument....  2021-07-06T04:36:41.031Z  "
      ]
     },
     "execution_count": 1,
     "metadata": {},
     "output_type": "execute_result"
    }
   ],
   "source": [
    "item = next(iter(items))\n",
    "\n",
    "results = service.files().list(\n",
    "    corpora=\"drive\",\n",
    "    driveId='0AD0xvJ3ujNNmUk9PVA',\n",
    "    includeItemsFromAllDrives=True,\n",
    "    supportsAllDrives=True,\n",
    "    q=f\"'{item['id']}' in parents and mimeType ='application/vnd.openxmlformats-officedocument.spreadsheetml.sheet'\",\n",
    "    pageSize=100, fields=\"nextPageToken, files(id, name, mimeType, createdTime)\").execute()\n",
    "items = results.get('files', [])\n",
    "\n",
    "#一番先頭のフォルダの内容を表示\n",
    "item = next(iter(items))\n",
    "df=pd.DataFrame(items)\n",
    "df.columns = ['id', 'name', 'mimeType' ,'createdTime']\n",
    "df.head()"
   ]
  },
  {
   "cell_type": "markdown",
   "metadata": {
    "id": "kkinU4m0hf75"
   },
   "source": [
    "## モノレール利用者数データを取得し、カレントフォルダに出力"
   ]
  },
  {
   "cell_type": "code",
   "execution_count": 6,
   "metadata": {
    "execution": {
     "iopub.execute_input": "2021-07-07T11:33:26.601547Z",
     "iopub.status.busy": "2021-07-07T11:33:26.600052Z",
     "iopub.status.idle": "2021-07-07T11:33:27.653771Z",
     "shell.execute_reply": "2021-07-07T11:33:27.652844Z"
    },
    "id": "kkinU4m0hf75"
   },
   "outputs": [],
   "source": [
    "from googleapiclient.http import MediaIoBaseDownload\n",
    "\n",
    "request = service.files().get_media(fileId=item['id'])\n",
    "fh = io.FileIO('モノレール利用者数データ（千葉駅）.xlsx', \"wb\")\n",
    "downloader = MediaIoBaseDownload(fh, request)\n",
    "done = False\n",
    "while done is False:\n",
    "    status, done = downloader.next_chunk()"
   ]
  },
  {
   "cell_type": "code",
   "execution_count": 7,
   "metadata": {
    "execution": {
     "iopub.execute_input": "2021-07-07T11:33:27.662339Z",
     "iopub.status.busy": "2021-07-07T11:33:27.657450Z",
     "iopub.status.idle": "2021-07-07T11:33:27.845891Z",
     "shell.execute_reply": "2021-07-07T11:33:27.845381Z"
    },
    "id": "kkinU4m0hf75"
   },
   "outputs": [
    {
     "name": "stdout",
     "output_type": "stream",
     "text": [
      "README.md      dummy.json\r\n",
      "composer.json  make_monorail_json.ipynb\r\n",
      "composer.lock  requirements.txt\r\n",
      "convert.php    service_account.json\r\n",
      "\u001b[0m\u001b[01;34mdownloads\u001b[0m/     モノレール利用者数データ（千葉駅）.xlsx\r\n"
     ]
    }
   ],
   "source": [
    "ls"
   ]
  },
  {
   "cell_type": "code",
   "execution_count": 8,
   "metadata": {
    "execution": {
     "iopub.execute_input": "2021-07-07T11:33:27.851580Z",
     "iopub.status.busy": "2021-07-07T11:33:27.850987Z",
     "iopub.status.idle": "2021-07-07T11:33:27.856679Z",
     "shell.execute_reply": "2021-07-07T11:33:27.856211Z"
    },
    "id": "3Rd8slMrGPkY"
   },
   "outputs": [
    {
     "data": {
      "text/plain": [
       "'2021/07/07 20:33'"
      ]
     },
     "execution_count": 1,
     "metadata": {},
     "output_type": "execute_result"
    }
   ],
   "source": [
    "import datetime as dt\n",
    "\n",
    "CREATED_DATE=dt.datetime.today().strftime('%Y/%m/%d %H:%M')\n",
    "CREATED_DATE"
   ]
  },
  {
   "cell_type": "code",
   "execution_count": 9,
   "metadata": {
    "execution": {
     "iopub.execute_input": "2021-07-07T11:33:27.869138Z",
     "iopub.status.busy": "2021-07-07T11:33:27.864373Z",
     "iopub.status.idle": "2021-07-07T11:33:28.207792Z",
     "shell.execute_reply": "2021-07-07T11:33:28.207271Z"
    },
    "id": "3Rd8slMrGPkY"
   },
   "outputs": [],
   "source": [
    "import pandas as pd\n",
    "\n",
    "# データ読み込み\n",
    "df = pd.read_excel('./モノレール利用者数データ（千葉駅）.xlsx',sheet_name='Sheet2',header=1,usecols=list(range(0,11)),engine='openpyxl')\n",
    "df.columns = ['開始日','終了日', '日数' ,'06:30:00' ,'07:00:00' ,'07:30:00' ,'08:00:00' ,'08:30:00' ,'09:00:00' ,'09:30:00' ,'10:00:00']\n",
    "\n",
    "# 2.「01_monorail_jsonを生成.ipynb」に対する修正内容\n",
    "# 開始日、終了日を次のフォーマットに変換(MM月DD日)\n",
    "# 期間を次の内容で作成。「開始日」+「～」＋「終了日」\n",
    "df['開始日'] = pd.to_datetime(df['開始日']).dt.strftime('%-m月%-d日')\n",
    "df['終了日'] = pd.to_datetime(df['終了日']).dt.strftime('%-m月%-d日')\n",
    "df['期間'] = df['開始日'] + '～' + df['終了日']\n",
    "\n",
    "df = df.dropna()\n",
    "# df = df.set_index('期間')\n",
    "\n",
    "# 各時間帯に整理\n",
    "df['6:30～7:30'] = (df['06:30:00']+ df['07:00:00'])/df['日数']\n",
    "df['7:30～9:30'] = (df['07:30:00']+ df['08:00:00'] + df['08:30:00']+ df['09:00:00'])/df['日数']\n",
    "df['9:30～10:30'] = (df['09:30:00']+ df['10:00:00'])/df['日数']\n",
    "\n",
    "# パーセントにする\n",
    "base_date_index = 0\n",
    "df['p_6:30～7:30'] = df['6:30～7:30']/df.at[base_date_index, '6:30～7:30']\n",
    "df['p_7:30～9:30'] = df['7:30～9:30']/df.at[base_date_index, '7:30～9:30']\n",
    "df['p_9:30～10:30'] = df['9:30～10:30']/df.at[base_date_index, '9:30～10:30']\n",
    "\n",
    "# 減少率にする\n",
    "df['p_6:30～7:30'] = df['p_6:30～7:30'] - 1.0\n",
    "df['p_7:30～9:30'] = df['p_7:30～9:30'] - 1.0\n",
    "df['p_9:30～10:30'] = df['p_9:30～10:30'] - 1.0\n",
    "\n",
    "# パーセントの値にする\n",
    "df['p_6:30～7:30'] = (df['p_6:30～7:30']*100).round(2)\n",
    "df['p_7:30～9:30'] = (df['p_7:30～9:30']*100).round(2)\n",
    "df['p_9:30～10:30'] = (df['p_9:30～10:30']*100).round(2)"
   ]
  },
  {
   "cell_type": "code",
   "execution_count": 10,
   "metadata": {
    "colab": {
     "base_uri": "https://localhost:8080/",
     "height": 419
    },
    "execution": {
     "iopub.execute_input": "2021-07-07T11:33:28.238810Z",
     "iopub.status.busy": "2021-07-07T11:33:28.225925Z",
     "iopub.status.idle": "2021-07-07T11:33:28.244407Z",
     "shell.execute_reply": "2021-07-07T11:33:28.243914Z"
    },
    "executionInfo": {
     "elapsed": 272,
     "status": "ok",
     "timestamp": 1624067051241,
     "user": {
      "displayName": "畠中一幸",
      "photoUrl": "",
      "userId": "11970968940868001732"
     },
     "user_tz": -540
    },
    "id": "mZruy1pzi8Eb",
    "outputId": "89f05c2d-679e-4526-c2dc-36337f3713e7"
   },
   "outputs": [
    {
     "data": {
      "text/html": [
       "<div>\n",
       "<style scoped>\n",
       "    .dataframe tbody tr th:only-of-type {\n",
       "        vertical-align: middle;\n",
       "    }\n",
       "\n",
       "    .dataframe tbody tr th {\n",
       "        vertical-align: top;\n",
       "    }\n",
       "\n",
       "    .dataframe thead th {\n",
       "        text-align: right;\n",
       "    }\n",
       "</style>\n",
       "<table border=\"1\" class=\"dataframe\">\n",
       "  <thead>\n",
       "    <tr style=\"text-align: right;\">\n",
       "      <th></th>\n",
       "      <th>開始日</th>\n",
       "      <th>終了日</th>\n",
       "      <th>日数</th>\n",
       "      <th>06:30:00</th>\n",
       "      <th>07:00:00</th>\n",
       "      <th>07:30:00</th>\n",
       "      <th>08:00:00</th>\n",
       "      <th>08:30:00</th>\n",
       "      <th>09:00:00</th>\n",
       "      <th>09:30:00</th>\n",
       "      <th>10:00:00</th>\n",
       "      <th>期間</th>\n",
       "      <th>6:30～7:30</th>\n",
       "      <th>7:30～9:30</th>\n",
       "      <th>9:30～10:30</th>\n",
       "      <th>p_6:30～7:30</th>\n",
       "      <th>p_7:30～9:30</th>\n",
       "      <th>p_9:30～10:30</th>\n",
       "    </tr>\n",
       "  </thead>\n",
       "  <tbody>\n",
       "    <tr>\n",
       "      <th>0</th>\n",
       "      <td>1月20日</td>\n",
       "      <td>1月24日</td>\n",
       "      <td>5.0</td>\n",
       "      <td>2258.0</td>\n",
       "      <td>2736.0</td>\n",
       "      <td>3288.0</td>\n",
       "      <td>2719.0</td>\n",
       "      <td>2637.0</td>\n",
       "      <td>1519.0</td>\n",
       "      <td>1496.0</td>\n",
       "      <td>1523.0</td>\n",
       "      <td>1月20日～1月24日</td>\n",
       "      <td>998.8</td>\n",
       "      <td>2032.60</td>\n",
       "      <td>603.8</td>\n",
       "      <td>0.00</td>\n",
       "      <td>0.00</td>\n",
       "      <td>0.00</td>\n",
       "    </tr>\n",
       "    <tr>\n",
       "      <th>1</th>\n",
       "      <td>1月27日</td>\n",
       "      <td>1月31日</td>\n",
       "      <td>5.0</td>\n",
       "      <td>2316.0</td>\n",
       "      <td>2821.0</td>\n",
       "      <td>3264.0</td>\n",
       "      <td>2698.0</td>\n",
       "      <td>2468.0</td>\n",
       "      <td>1526.0</td>\n",
       "      <td>1408.0</td>\n",
       "      <td>1411.0</td>\n",
       "      <td>1月27日～1月31日</td>\n",
       "      <td>1027.4</td>\n",
       "      <td>1991.20</td>\n",
       "      <td>563.8</td>\n",
       "      <td>2.86</td>\n",
       "      <td>-2.04</td>\n",
       "      <td>-6.62</td>\n",
       "    </tr>\n",
       "    <tr>\n",
       "      <th>2</th>\n",
       "      <td>2月3日</td>\n",
       "      <td>2月7日</td>\n",
       "      <td>5.0</td>\n",
       "      <td>2271.0</td>\n",
       "      <td>2800.0</td>\n",
       "      <td>3198.0</td>\n",
       "      <td>2512.0</td>\n",
       "      <td>2483.0</td>\n",
       "      <td>1574.0</td>\n",
       "      <td>1404.0</td>\n",
       "      <td>1422.0</td>\n",
       "      <td>2月3日～2月7日</td>\n",
       "      <td>1014.2</td>\n",
       "      <td>1953.40</td>\n",
       "      <td>565.2</td>\n",
       "      <td>1.54</td>\n",
       "      <td>-3.90</td>\n",
       "      <td>-6.39</td>\n",
       "    </tr>\n",
       "    <tr>\n",
       "      <th>3</th>\n",
       "      <td>2月10日</td>\n",
       "      <td>2月14日</td>\n",
       "      <td>4.0</td>\n",
       "      <td>1763.0</td>\n",
       "      <td>2225.0</td>\n",
       "      <td>2554.0</td>\n",
       "      <td>2047.0</td>\n",
       "      <td>1954.0</td>\n",
       "      <td>1208.0</td>\n",
       "      <td>1200.0</td>\n",
       "      <td>1208.0</td>\n",
       "      <td>2月10日～2月14日</td>\n",
       "      <td>997.0</td>\n",
       "      <td>1940.75</td>\n",
       "      <td>602.0</td>\n",
       "      <td>-0.18</td>\n",
       "      <td>-4.52</td>\n",
       "      <td>-0.30</td>\n",
       "    </tr>\n",
       "    <tr>\n",
       "      <th>4</th>\n",
       "      <td>2月17日</td>\n",
       "      <td>2月21日</td>\n",
       "      <td>5.0</td>\n",
       "      <td>2234.0</td>\n",
       "      <td>2763.0</td>\n",
       "      <td>3196.0</td>\n",
       "      <td>2459.0</td>\n",
       "      <td>2408.0</td>\n",
       "      <td>1546.0</td>\n",
       "      <td>1513.0</td>\n",
       "      <td>1355.0</td>\n",
       "      <td>2月17日～2月21日</td>\n",
       "      <td>999.4</td>\n",
       "      <td>1921.80</td>\n",
       "      <td>573.6</td>\n",
       "      <td>0.06</td>\n",
       "      <td>-5.45</td>\n",
       "      <td>-5.00</td>\n",
       "    </tr>\n",
       "    <tr>\n",
       "      <th>...</th>\n",
       "      <td>...</td>\n",
       "      <td>...</td>\n",
       "      <td>...</td>\n",
       "      <td>...</td>\n",
       "      <td>...</td>\n",
       "      <td>...</td>\n",
       "      <td>...</td>\n",
       "      <td>...</td>\n",
       "      <td>...</td>\n",
       "      <td>...</td>\n",
       "      <td>...</td>\n",
       "      <td>...</td>\n",
       "      <td>...</td>\n",
       "      <td>...</td>\n",
       "      <td>...</td>\n",
       "      <td>...</td>\n",
       "      <td>...</td>\n",
       "      <td>...</td>\n",
       "    </tr>\n",
       "    <tr>\n",
       "      <th>71</th>\n",
       "      <td>5月31日</td>\n",
       "      <td>6月4日</td>\n",
       "      <td>5.0</td>\n",
       "      <td>1733.0</td>\n",
       "      <td>2337.0</td>\n",
       "      <td>2969.0</td>\n",
       "      <td>1986.0</td>\n",
       "      <td>2147.0</td>\n",
       "      <td>1308.0</td>\n",
       "      <td>1197.0</td>\n",
       "      <td>1043.0</td>\n",
       "      <td>5月31日～6月4日</td>\n",
       "      <td>814.0</td>\n",
       "      <td>1682.00</td>\n",
       "      <td>448.0</td>\n",
       "      <td>-18.50</td>\n",
       "      <td>-17.25</td>\n",
       "      <td>-25.80</td>\n",
       "    </tr>\n",
       "    <tr>\n",
       "      <th>72</th>\n",
       "      <td>6月7日</td>\n",
       "      <td>6月11日</td>\n",
       "      <td>5.0</td>\n",
       "      <td>1683.0</td>\n",
       "      <td>2347.0</td>\n",
       "      <td>2867.0</td>\n",
       "      <td>2037.0</td>\n",
       "      <td>2102.0</td>\n",
       "      <td>1266.0</td>\n",
       "      <td>1217.0</td>\n",
       "      <td>1089.0</td>\n",
       "      <td>6月7日～6月11日</td>\n",
       "      <td>806.0</td>\n",
       "      <td>1654.40</td>\n",
       "      <td>461.2</td>\n",
       "      <td>-19.30</td>\n",
       "      <td>-18.61</td>\n",
       "      <td>-23.62</td>\n",
       "    </tr>\n",
       "    <tr>\n",
       "      <th>73</th>\n",
       "      <td>6月14日</td>\n",
       "      <td>6月18日</td>\n",
       "      <td>5.0</td>\n",
       "      <td>1702.0</td>\n",
       "      <td>2339.0</td>\n",
       "      <td>2856.0</td>\n",
       "      <td>2086.0</td>\n",
       "      <td>2122.0</td>\n",
       "      <td>1217.0</td>\n",
       "      <td>1328.0</td>\n",
       "      <td>1161.0</td>\n",
       "      <td>6月14日～6月18日</td>\n",
       "      <td>808.2</td>\n",
       "      <td>1656.20</td>\n",
       "      <td>497.8</td>\n",
       "      <td>-19.08</td>\n",
       "      <td>-18.52</td>\n",
       "      <td>-17.56</td>\n",
       "    </tr>\n",
       "    <tr>\n",
       "      <th>74</th>\n",
       "      <td>6月21日</td>\n",
       "      <td>6月25日</td>\n",
       "      <td>5.0</td>\n",
       "      <td>1721.0</td>\n",
       "      <td>2367.0</td>\n",
       "      <td>2860.0</td>\n",
       "      <td>2072.0</td>\n",
       "      <td>2092.0</td>\n",
       "      <td>1186.0</td>\n",
       "      <td>1367.0</td>\n",
       "      <td>1255.0</td>\n",
       "      <td>6月21日～6月25日</td>\n",
       "      <td>817.6</td>\n",
       "      <td>1642.00</td>\n",
       "      <td>524.4</td>\n",
       "      <td>-18.14</td>\n",
       "      <td>-19.22</td>\n",
       "      <td>-13.15</td>\n",
       "    </tr>\n",
       "    <tr>\n",
       "      <th>75</th>\n",
       "      <td>6月28日</td>\n",
       "      <td>7月2日</td>\n",
       "      <td>5.0</td>\n",
       "      <td>1839.0</td>\n",
       "      <td>2545.0</td>\n",
       "      <td>2886.0</td>\n",
       "      <td>2482.0</td>\n",
       "      <td>2313.0</td>\n",
       "      <td>1380.0</td>\n",
       "      <td>1421.0</td>\n",
       "      <td>1254.0</td>\n",
       "      <td>6月28日～7月2日</td>\n",
       "      <td>876.8</td>\n",
       "      <td>1812.20</td>\n",
       "      <td>535.0</td>\n",
       "      <td>-12.21</td>\n",
       "      <td>-10.84</td>\n",
       "      <td>-11.39</td>\n",
       "    </tr>\n",
       "  </tbody>\n",
       "</table>\n",
       "<p>76 rows × 18 columns</p>\n",
       "</div>"
      ],
      "text/plain": [
       "      開始日    終了日   日数  06:30:00  07:00:00  07:30:00  08:00:00  08:30:00  \\\n",
       "0   1月20日  1月24日  5.0    2258.0    2736.0    3288.0    2719.0    2637.0   \n",
       "1   1月27日  1月31日  5.0    2316.0    2821.0    3264.0    2698.0    2468.0   \n",
       "2    2月3日   2月7日  5.0    2271.0    2800.0    3198.0    2512.0    2483.0   \n",
       "3   2月10日  2月14日  4.0    1763.0    2225.0    2554.0    2047.0    1954.0   \n",
       "4   2月17日  2月21日  5.0    2234.0    2763.0    3196.0    2459.0    2408.0   \n",
       "..    ...    ...  ...       ...       ...       ...       ...       ...   \n",
       "71  5月31日   6月4日  5.0    1733.0    2337.0    2969.0    1986.0    2147.0   \n",
       "72   6月7日  6月11日  5.0    1683.0    2347.0    2867.0    2037.0    2102.0   \n",
       "73  6月14日  6月18日  5.0    1702.0    2339.0    2856.0    2086.0    2122.0   \n",
       "74  6月21日  6月25日  5.0    1721.0    2367.0    2860.0    2072.0    2092.0   \n",
       "75  6月28日   7月2日  5.0    1839.0    2545.0    2886.0    2482.0    2313.0   \n",
       "\n",
       "    09:00:00  09:30:00  10:00:00           期間  6:30～7:30  7:30～9:30  \\\n",
       "0     1519.0    1496.0    1523.0  1月20日～1月24日      998.8    2032.60   \n",
       "1     1526.0    1408.0    1411.0  1月27日～1月31日     1027.4    1991.20   \n",
       "2     1574.0    1404.0    1422.0    2月3日～2月7日     1014.2    1953.40   \n",
       "3     1208.0    1200.0    1208.0  2月10日～2月14日      997.0    1940.75   \n",
       "4     1546.0    1513.0    1355.0  2月17日～2月21日      999.4    1921.80   \n",
       "..       ...       ...       ...          ...        ...        ...   \n",
       "71    1308.0    1197.0    1043.0   5月31日～6月4日      814.0    1682.00   \n",
       "72    1266.0    1217.0    1089.0   6月7日～6月11日      806.0    1654.40   \n",
       "73    1217.0    1328.0    1161.0  6月14日～6月18日      808.2    1656.20   \n",
       "74    1186.0    1367.0    1255.0  6月21日～6月25日      817.6    1642.00   \n",
       "75    1380.0    1421.0    1254.0   6月28日～7月2日      876.8    1812.20   \n",
       "\n",
       "    9:30～10:30  p_6:30～7:30  p_7:30～9:30  p_9:30～10:30  \n",
       "0        603.8         0.00         0.00          0.00  \n",
       "1        563.8         2.86        -2.04         -6.62  \n",
       "2        565.2         1.54        -3.90         -6.39  \n",
       "3        602.0        -0.18        -4.52         -0.30  \n",
       "4        573.6         0.06        -5.45         -5.00  \n",
       "..         ...          ...          ...           ...  \n",
       "71       448.0       -18.50       -17.25        -25.80  \n",
       "72       461.2       -19.30       -18.61        -23.62  \n",
       "73       497.8       -19.08       -18.52        -17.56  \n",
       "74       524.4       -18.14       -19.22        -13.15  \n",
       "75       535.0       -12.21       -10.84        -11.39  \n",
       "\n",
       "[76 rows x 18 columns]"
      ]
     },
     "execution_count": 1,
     "metadata": {},
     "output_type": "execute_result"
    }
   ],
   "source": [
    "df"
   ]
  },
  {
   "cell_type": "code",
   "execution_count": 11,
   "metadata": {
    "execution": {
     "iopub.execute_input": "2021-07-07T11:33:28.254723Z",
     "iopub.status.busy": "2021-07-07T11:33:28.254130Z",
     "iopub.status.idle": "2021-07-07T11:33:28.257875Z",
     "shell.execute_reply": "2021-07-07T11:33:28.257398Z"
    },
    "id": "j9-GiweeT-IN"
   },
   "outputs": [],
   "source": [
    "# データをjsonの形式加工する\n",
    "df3=df[['期間','p_6:30～7:30','p_7:30～9:30','p_9:30～10:30']].rename(columns={\n",
    "'p_6:30～7:30':'6:30～7:30',\n",
    "'p_7:30～9:30':'7:30～9:30',\n",
    "'p_9:30～10:30':'9:30～10:30',\n",
    "})\n",
    "\n",
    "dataset_list = []\n",
    "for row in df3.drop(index=base_date_index).to_dict(orient='records'):\n",
    "  #  {'6:30～7:30': -29.52,\n",
    "  #   '7:30～9:30': -28.36,\n",
    "  #   '9:30～10:30': -25.22,\n",
    "  #   '期間': '01月11日~01月15日'},\n",
    "  #   ↓\n",
    "  #   {'data': ['02月03日~02月07日', 1.54, -3.9, -6.39], 'label': 2},\n",
    "  _label = row['期間']\n",
    "  _data = [row['6:30～7:30'],row['7:30～9:30'],row['9:30～10:30']]\n",
    "  dataset_list.append(dict(data=_data,label=_label))\n",
    "\n",
    "json_data = {\n",
    "  \"date\": CREATED_DATE,\n",
    "  \"datasets\": dataset_list,\n",
    "  \"labels\": [\"6:30~7:30\", \"7:30~9:30\", \"9:30~10:30\"],\n",
    "  \"base_period\": \"1月20日~1月24日\"\n",
    "}"
   ]
  },
  {
   "cell_type": "code",
   "execution_count": 12,
   "metadata": {
    "execution": {
     "iopub.execute_input": "2021-07-07T11:33:28.264388Z",
     "iopub.status.busy": "2021-07-07T11:33:28.261909Z",
     "iopub.status.idle": "2021-07-07T11:33:28.267341Z",
     "shell.execute_reply": "2021-07-07T11:33:28.266871Z"
    },
    "id": "AO0yLM1xYe2L"
   },
   "outputs": [],
   "source": [
    "import json\n",
    "with open(f'monorail.json','w') as f:\n",
    "  json.dump(json_data, fp=f, ensure_ascii=False, indent=4, sort_keys=True, separators=(',', ': '))"
   ]
  },
  {
   "cell_type": "code",
   "execution_count": null,
   "metadata": {},
   "outputs": [],
   "source": []
  }
 ],
 "metadata": {
  "colab": {
   "collapsed_sections": [
    "PPoH4akmGTuG",
    "KUZKUgqYh1OM",
    "SUH3fx_Bn-v0",
    "FIJFLjWdoTz1"
   ],
   "name": "01_monorail_jsonを生成_日付の変更.ipynb",
   "provenance": [
    {
     "file_id": "1aYG7UWD5L_T1PsLXN2srMYzqvAauJFUy",
     "timestamp": 1623406264641
    }
   ]
  },
  "interpreter": {
   "hash": "78fbdf3bd207e0cea2f126e35f3b26d4892e45b2322e3a2b4ad49f948d167ea4"
  },
  "kernelspec": {
   "display_name": "Python 3",
   "language": "python",
   "name": "python3"
  },
  "language_info": {
   "codemirror_mode": {
    "name": "ipython",
    "version": 3
   },
   "file_extension": ".py",
   "mimetype": "text/x-python",
   "name": "python",
   "nbconvert_exporter": "python",
   "pygments_lexer": "ipython3",
   "version": "3.6.9"
  }
 },
 "nbformat": 4,
 "nbformat_minor": 4
}
